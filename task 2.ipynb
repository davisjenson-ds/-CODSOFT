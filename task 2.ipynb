{
 "cells": [
  {
   "cell_type": "code",
   "execution_count": 1,
   "id": "be751b65",
   "metadata": {},
   "outputs": [],
   "source": [
    "import pandas as pd\n",
    "from sklearn.model_selection import train_test_split, GridSearchCV\n",
    "from sklearn.ensemble import RandomForestRegressor\n",
    "from sklearn.preprocessing import OneHotEncoder, LabelEncoder\n",
    "from sklearn.metrics import mean_squared_error, r2_score\n",
    "import numpy as np\n"
   ]
  },
  {
   "cell_type": "code",
   "execution_count": 2,
   "id": "6bc31a15",
   "metadata": {},
   "outputs": [
    {
     "name": "stdout",
     "output_type": "stream",
     "text": [
      "First few rows of the dataset:\n",
      "                                 Name    Year Duration            Genre  \\\n",
      "0                                         NaN      NaN            Drama   \n",
      "1  #Gadhvi (He thought he was Gandhi) -2019.0  109 min            Drama   \n",
      "2                         #Homecoming -2021.0   90 min   Drama, Musical   \n",
      "3                             #Yaaram -2019.0  110 min  Comedy, Romance   \n",
      "4                   ...And Once Again -2010.0  105 min            Drama   \n",
      "\n",
      "   Rating Votes            Director       Actor 1             Actor 2  \\\n",
      "0     NaN   NaN       J.S. Randhawa      Manmauji              Birbal   \n",
      "1     7.0     8       Gaurav Bakshi  Rasika Dugal      Vivek Ghamande   \n",
      "2     NaN   NaN  Soumyajit Majumdar  Sayani Gupta   Plabita Borthakur   \n",
      "3     4.4    35          Ovais Khan       Prateik          Ishita Raj   \n",
      "4     NaN   NaN        Amol Palekar  Rajat Kapoor  Rituparna Sengupta   \n",
      "\n",
      "           Actor 3  \n",
      "0  Rajendra Bhatia  \n",
      "1    Arvind Jangid  \n",
      "2       Roy Angana  \n",
      "3  Siddhant Kapoor  \n",
      "4      Antara Mali  \n"
     ]
    }
   ],
   "source": [
    "#loading dataset of indian movies\n",
    "dataset_movies =\"C:/Users/DELL/Downloads/archive (2)/IMDb Movies India.csv\" \n",
    "movies_df = pd.read_csv(dataset_movies, encoding='latin1')\n",
    "# Explore the first few rows of the data\n",
    "print(\"First few rows of the dataset:\")\n",
    "print(movies_df.head())\n"
   ]
  },
  {
   "cell_type": "code",
   "execution_count": 3,
   "id": "55f33585",
   "metadata": {},
   "outputs": [
    {
     "name": "stdout",
     "output_type": "stream",
     "text": [
      "\n",
      "Data types:\n",
      "Name         object\n",
      "Year        float64\n",
      "Duration     object\n",
      "Genre        object\n",
      "Rating      float64\n",
      "Votes        object\n",
      "Director     object\n",
      "Actor 1      object\n",
      "Actor 2      object\n",
      "Actor 3      object\n",
      "dtype: object\n"
     ]
    }
   ],
   "source": [
    "# Explore data types\n",
    "print(\"\\nData types:\")\n",
    "print(movies_df.dtypes)\n",
    "\n"
   ]
  },
  {
   "cell_type": "code",
   "execution_count": 4,
   "id": "9c5be270",
   "metadata": {},
   "outputs": [
    {
     "name": "stdout",
     "output_type": "stream",
     "text": [
      "Index(['Name', 'Year', 'Duration', 'Genre', 'Rating', 'Votes', 'Director',\n",
      "       'Actor 1', 'Actor 2', 'Actor 3'],\n",
      "      dtype='object')\n"
     ]
    }
   ],
   "source": [
    "#viewing column names\n",
    "print(movies_df.columns)"
   ]
  },
  {
   "cell_type": "code",
   "execution_count": 5,
   "id": "da64626c",
   "metadata": {},
   "outputs": [
    {
     "name": "stdout",
     "output_type": "stream",
     "text": [
      "\n",
      "Missing values:\n",
      "Name           0\n",
      "Year         528\n",
      "Duration    8269\n",
      "Genre       1877\n",
      "Rating      7590\n",
      "Votes       7589\n",
      "Director     525\n",
      "Actor 1     1617\n",
      "Actor 2     2384\n",
      "Actor 3     3144\n",
      "dtype: int64\n"
     ]
    }
   ],
   "source": [
    "# Check for missing values\n",
    "print(\"\\nMissing values:\")\n",
    "print(movies_df.isnull().sum())\n",
    "\n",
    "# Handle missing values (e.g., fill with mean, median, or mode)\n",
    "movies_df.fillna(0, inplace=True)\n",
    "\n",
    "\n"
   ]
  },
  {
   "cell_type": "code",
   "execution_count": 6,
   "id": "367bc62a",
   "metadata": {},
   "outputs": [
    {
     "name": "stdout",
     "output_type": "stream",
     "text": [
      "\n",
      "Missing values:\n",
      "Name        0\n",
      "Year        0\n",
      "Duration    0\n",
      "Genre       0\n",
      "Rating      0\n",
      "Votes       0\n",
      "Director    0\n",
      "Actor 1     0\n",
      "Actor 2     0\n",
      "Actor 3     0\n",
      "dtype: int64\n"
     ]
    }
   ],
   "source": [
    "# Check for missing values\n",
    "print(\"\\nMissing values:\")\n",
    "print(movies_df.isnull().sum())\n"
   ]
  },
  {
   "cell_type": "code",
   "execution_count": 7,
   "id": "df689702",
   "metadata": {},
   "outputs": [
    {
     "name": "stdout",
     "output_type": "stream",
     "text": [
      "                                 Name  Year  Duration            Genre  \\\n",
      "0                                         0         0            Drama   \n",
      "1  #Gadhvi (He thought he was Gandhi) -2019       109            Drama   \n",
      "2                         #Homecoming -2021        90   Drama, Musical   \n",
      "3                             #Yaaram -2019       110  Comedy, Romance   \n",
      "4                   ...And Once Again -2010       105            Drama   \n",
      "\n",
      "   Rating Votes            Director       Actor 1             Actor 2  \\\n",
      "0     0.0     0       J.S. Randhawa      Manmauji              Birbal   \n",
      "1     7.0     8       Gaurav Bakshi  Rasika Dugal      Vivek Ghamande   \n",
      "2     0.0     0  Soumyajit Majumdar  Sayani Gupta   Plabita Borthakur   \n",
      "3     4.4    35          Ovais Khan       Prateik          Ishita Raj   \n",
      "4     0.0     0        Amol Palekar  Rajat Kapoor  Rituparna Sengupta   \n",
      "\n",
      "           Actor 3  \n",
      "0  Rajendra Bhatia  \n",
      "1    Arvind Jangid  \n",
      "2       Roy Angana  \n",
      "3  Siddhant Kapoor  \n",
      "4      Antara Mali  \n"
     ]
    }
   ],
   "source": [
    "# Data Cleaning\n",
    "# Convert 'Year' and 'Duration' columns to appropriate data types\n",
    "movies_df['Year'] = movies_df['Year'].astype(int)\n",
    "movies_df['Duration'] = movies_df['Duration'].str.extract('(\\d+)').astype(float)\n",
    "movies_df.fillna(0, inplace=True)\n",
    "movies_df['Duration'] = movies_df['Duration'].astype(int)\n",
    "print(movies_df.head())"
   ]
  },
  {
   "cell_type": "code",
   "execution_count": 8,
   "id": "50e39b5f",
   "metadata": {},
   "outputs": [
    {
     "name": "stdout",
     "output_type": "stream",
     "text": [
      "\n",
      "Data types:\n",
      "Name         object\n",
      "Year          int32\n",
      "Duration      int32\n",
      "Genre        object\n",
      "Rating      float64\n",
      "Votes        object\n",
      "Director     object\n",
      "Actor 1      object\n",
      "Actor 2      object\n",
      "Actor 3      object\n",
      "dtype: object\n"
     ]
    }
   ],
   "source": [
    "# Explore data types\n",
    "print(\"\\nData types:\")\n",
    "print(movies_df.dtypes)\n",
    "\n"
   ]
  },
  {
   "cell_type": "code",
   "execution_count": 9,
   "id": "8c6b4a9e",
   "metadata": {},
   "outputs": [
    {
     "name": "stdout",
     "output_type": "stream",
     "text": [
      "Data type of 'Votes' column: int32\n"
     ]
    }
   ],
   "source": [
    "# Convert the 'Votes' column to string type\n",
    "movies_df['Votes'] = movies_df['Votes'].astype(str)\n",
    "# Remove commas and replace 'nan' with '0' in the 'Votes' column\n",
    "movies_df['Votes'] = movies_df['Votes'].str.replace(',', '').str.replace('nan', '0')\n",
    "movies_df['Votes'] = movies_df['Votes'].str.extract('(\\d+)').astype(float)\n",
    "\n",
    "# Convert the 'Votes' column to float first to handle values like '8.0'\n",
    "movies_df['Votes'] = movies_df['Votes'].astype(float)\n",
    "\n",
    "#Convert the 'Votes' column to integer\n",
    "movies_df['Votes'] = movies_df['Votes'].astype(int)\n",
    "\n",
    "# Check the data type of 'Votes' column\n",
    "print(\"Data type of 'Votes' column:\", movies_df['Votes'].dtype)\n"
   ]
  },
  {
   "cell_type": "code",
   "execution_count": 10,
   "id": "56d1fe67",
   "metadata": {},
   "outputs": [
    {
     "name": "stdout",
     "output_type": "stream",
     "text": [
      "                                 Name  Year  Duration            Genre  \\\n",
      "0                                         0         0            Drama   \n",
      "1  #Gadhvi (He thought he was Gandhi) -2019       109            Drama   \n",
      "2                         #Homecoming -2021        90   Drama, Musical   \n",
      "3                             #Yaaram -2019       110  Comedy, Romance   \n",
      "4                   ...And Once Again -2010       105            Drama   \n",
      "\n",
      "   Rating  Votes            Director       Actor 1             Actor 2  \\\n",
      "0     0.0      0       J.S. Randhawa      Manmauji              Birbal   \n",
      "1     7.0      8       Gaurav Bakshi  Rasika Dugal      Vivek Ghamande   \n",
      "2     0.0      0  Soumyajit Majumdar  Sayani Gupta   Plabita Borthakur   \n",
      "3     4.4     35          Ovais Khan       Prateik          Ishita Raj   \n",
      "4     0.0      0        Amol Palekar  Rajat Kapoor  Rituparna Sengupta   \n",
      "\n",
      "           Actor 3  \n",
      "0  Rajendra Bhatia  \n",
      "1    Arvind Jangid  \n",
      "2       Roy Angana  \n",
      "3  Siddhant Kapoor  \n",
      "4      Antara Mali  \n"
     ]
    }
   ],
   "source": [
    "print(movies_df.head())"
   ]
  },
  {
   "cell_type": "code",
   "execution_count": 11,
   "id": "0f2d7b40",
   "metadata": {},
   "outputs": [
    {
     "name": "stdout",
     "output_type": "stream",
     "text": [
      "Drama                         2780\n",
      "0                             1877\n",
      "Action                        1289\n",
      "Thriller                       779\n",
      "Romance                        708\n",
      "                              ... \n",
      "Action, Musical, War             1\n",
      "Horror, Crime, Thriller          1\n",
      "Animation, Comedy                1\n",
      "Romance, Action, Crime           1\n",
      "Adventure, Fantasy, Sci-Fi       1\n",
      "Name: Genre, Length: 486, dtype: int64\n"
     ]
    }
   ],
   "source": [
    "print(movies_df['Genre'].value_counts())"
   ]
  },
  {
   "cell_type": "code",
   "execution_count": null,
   "id": "9f69165b",
   "metadata": {},
   "outputs": [],
   "source": []
  },
  {
   "cell_type": "code",
   "execution_count": null,
   "id": "df1bd2a7",
   "metadata": {},
   "outputs": [],
   "source": []
  },
  {
   "cell_type": "code",
   "execution_count": 12,
   "id": "f694e5fe",
   "metadata": {},
   "outputs": [
    {
     "name": "stdout",
     "output_type": "stream",
     "text": [
      "                                     Name  Year  Duration            Genre  \\\n",
      "0                                             0         0            Drama   \n",
      "1      #Gadhvi (He thought he was Gandhi) -2019       109            Drama   \n",
      "2                             #Homecoming -2021        90   Drama, Musical   \n",
      "3                                 #Yaaram -2019       110  Comedy, Romance   \n",
      "4                       ...And Once Again -2010       105            Drama   \n",
      "...                                   ...   ...       ...              ...   \n",
      "15504                 Zulm Ko Jala Doonga -1988         0           Action   \n",
      "15505                               Zulmi -1999       129    Action, Drama   \n",
      "15506                           Zulmi Raj -2005         0           Action   \n",
      "15507                       Zulmi Shikari -1988         0           Action   \n",
      "15508                        Zulm-O-Sitam -1998       130    Action, Drama   \n",
      "\n",
      "       Rating  Votes            Director           Actor 1  \\\n",
      "0         0.0      0       J.S. Randhawa          Manmauji   \n",
      "1         7.0      8       Gaurav Bakshi      Rasika Dugal   \n",
      "2         0.0      0  Soumyajit Majumdar      Sayani Gupta   \n",
      "3         4.4     35          Ovais Khan           Prateik   \n",
      "4         0.0      0        Amol Palekar      Rajat Kapoor   \n",
      "...       ...    ...                 ...               ...   \n",
      "15504     4.6     11       Mahendra Shah  Naseeruddin Shah   \n",
      "15505     4.5    655          Kuku Kohli      Akshay Kumar   \n",
      "15506     0.0      0          Kiran Thej   Sangeeta Tiwari   \n",
      "15507     0.0      0                   0                 0   \n",
      "15508     6.2     20        K.C. Bokadia        Dharmendra   \n",
      "\n",
      "                  Actor 2          Actor 3  ...  Actor 3_Shakti Kapoor  \\\n",
      "0                  Birbal  Rajendra Bhatia  ...                      0   \n",
      "1          Vivek Ghamande    Arvind Jangid  ...                      0   \n",
      "2       Plabita Borthakur       Roy Angana  ...                      0   \n",
      "3              Ishita Raj  Siddhant Kapoor  ...                      0   \n",
      "4      Rituparna Sengupta      Antara Mali  ...                      0   \n",
      "...                   ...              ...  ...                    ...   \n",
      "15504       Sumeet Saigal    Suparna Anand  ...                      0   \n",
      "15505      Twinkle Khanna      Aruna Irani  ...                      0   \n",
      "15506                   0                0  ...                      0   \n",
      "15507                   0                0  ...                      0   \n",
      "15508          Jaya Prada      Arjun Sarja  ...                      0   \n",
      "\n",
      "       Actor 3_Anupam Kher  Actor 3_Jeevan  Actor 3_Other  Genre_Drama  \\\n",
      "0                        0               0             -1            1   \n",
      "1                        0               0             -1            1   \n",
      "2                        0               0             -1            0   \n",
      "3                        0               0             -1            0   \n",
      "4                        0               0             -1            1   \n",
      "...                    ...             ...            ...          ...   \n",
      "15504                    0               0             -1            0   \n",
      "15505                    0               0             -1            0   \n",
      "15506                    0               0             -2            0   \n",
      "15507                    0               0             -2            0   \n",
      "15508                    0               0             -1            0   \n",
      "\n",
      "       Genre_0  Genre_Action  Genre_Thriller  Genre_Romance  Genre_Other  \n",
      "0            0             0               0              0           -2  \n",
      "1            0             0               0              0           -2  \n",
      "2            0             0               0              0           -1  \n",
      "3            0             0               0              0           -1  \n",
      "4            0             0               0              0           -2  \n",
      "...        ...           ...             ...            ...          ...  \n",
      "15504        0             1               0              0           -2  \n",
      "15505        0             0               0              0           -1  \n",
      "15506        0             1               0              0           -2  \n",
      "15507        0             1               0              0           -2  \n",
      "15508        0             0               0              0           -1  \n",
      "\n",
      "[15509 rows x 34 columns]\n"
     ]
    }
   ],
   "source": [
    "top_n = 5\n",
    "\n",
    "# Define columns with high cardinality to be encoded\n",
    "high_cardinality_columns = ['Actor 1', 'Actor 2', 'Actor 3', 'Genre']\n",
    "\n",
    "# Apply one-hot encoding for each high-cardinality column\n",
    "for column in high_cardinality_columns:\n",
    "    # Calculate the frequency of each category\n",
    "    category_counts = movies_df[column].value_counts()\n",
    "    \n",
    "    # Identify the top N most frequent categories\n",
    "    top_categories = category_counts.nlargest(top_n).index\n",
    "    \n",
    "    # Create a new column in the DataFrame with one-hot encoding for each top category\n",
    "    for category in top_categories:\n",
    "        movies_df[f\"{column}_{category}\"] = (movies_df[column] == category).astype(int)\n",
    "    \n",
    "    # Group all other categories as 'Other'\n",
    "    movies_df[f\"{column}_Other\"] = ~movies_df[column].isin(top_categories).astype(int)\n",
    "    \n",
    "    # Drop the original column if needed\n",
    "    # df.drop(column, axis=1, inplace=True)\n",
    "\n",
    "# Display the updated DataFrame\n",
    "print(movies_df)\n"
   ]
  },
  {
   "cell_type": "code",
   "execution_count": 13,
   "id": "dcadbaab",
   "metadata": {},
   "outputs": [
    {
     "name": "stdout",
     "output_type": "stream",
     "text": [
      "       Year  Duration  Rating  Votes  Actor 1_0  Actor 1_Ashok Kumar  \\\n",
      "0         0         0     0.0      0          0                    0   \n",
      "1     -2019       109     7.0      8          0                    0   \n",
      "2     -2021        90     0.0      0          0                    0   \n",
      "3     -2019       110     4.4     35          0                    0   \n",
      "4     -2010       105     0.0      0          0                    0   \n",
      "...     ...       ...     ...    ...        ...                  ...   \n",
      "15504 -1988         0     4.6     11          0                    0   \n",
      "15505 -1999       129     4.5    655          0                    0   \n",
      "15506 -2005         0     0.0      0          0                    0   \n",
      "15507 -1988         0     0.0      0          1                    0   \n",
      "15508 -1998       130     6.2     20          0                    0   \n",
      "\n",
      "       Actor 1_Jeetendra  Actor 1_Dharmendra  Actor 1_Mithun Chakraborty  \\\n",
      "0                      0                   0                           0   \n",
      "1                      0                   0                           0   \n",
      "2                      0                   0                           0   \n",
      "3                      0                   0                           0   \n",
      "4                      0                   0                           0   \n",
      "...                  ...                 ...                         ...   \n",
      "15504                  0                   0                           0   \n",
      "15505                  0                   0                           0   \n",
      "15506                  0                   0                           0   \n",
      "15507                  0                   0                           0   \n",
      "15508                  0                   1                           0   \n",
      "\n",
      "       Actor 1_Other  ...  Actor 3_Shakti Kapoor  Actor 3_Anupam Kher  \\\n",
      "0                 -1  ...                      0                    0   \n",
      "1                 -1  ...                      0                    0   \n",
      "2                 -1  ...                      0                    0   \n",
      "3                 -1  ...                      0                    0   \n",
      "4                 -1  ...                      0                    0   \n",
      "...              ...  ...                    ...                  ...   \n",
      "15504             -1  ...                      0                    0   \n",
      "15505             -1  ...                      0                    0   \n",
      "15506             -1  ...                      0                    0   \n",
      "15507             -2  ...                      0                    0   \n",
      "15508             -2  ...                      0                    0   \n",
      "\n",
      "       Actor 3_Jeevan  Actor 3_Other  Genre_Drama  Genre_0  Genre_Action  \\\n",
      "0                   0             -1            1        0             0   \n",
      "1                   0             -1            1        0             0   \n",
      "2                   0             -1            0        0             0   \n",
      "3                   0             -1            0        0             0   \n",
      "4                   0             -1            1        0             0   \n",
      "...               ...            ...          ...      ...           ...   \n",
      "15504               0             -1            0        0             1   \n",
      "15505               0             -1            0        0             0   \n",
      "15506               0             -2            0        0             1   \n",
      "15507               0             -2            0        0             1   \n",
      "15508               0             -1            0        0             0   \n",
      "\n",
      "       Genre_Thriller  Genre_Romance  Genre_Other  \n",
      "0                   0              0           -2  \n",
      "1                   0              0           -2  \n",
      "2                   0              0           -1  \n",
      "3                   0              0           -1  \n",
      "4                   0              0           -2  \n",
      "...               ...            ...          ...  \n",
      "15504               0              0           -2  \n",
      "15505               0              0           -1  \n",
      "15506               0              0           -2  \n",
      "15507               0              0           -2  \n",
      "15508               0              0           -1  \n",
      "\n",
      "[15509 rows x 28 columns]\n"
     ]
    }
   ],
   "source": [
    "df = pd.DataFrame(movies_df)\n",
    "\n",
    "\n",
    "# List of columns to remove\n",
    "columns_to_remove = ['Name', 'Genre','Director','Actor 1','Actor 2','Actor 3']\n",
    "\n",
    "# Remove columns from the DataFrame\n",
    "moviedf=df.drop(columns=columns_to_remove)\n",
    "moviedf=pd.DataFrame(moviedf)\n",
    "\n",
    "# Display the DataFrame after removing columns\n",
    "print(moviedf)\n",
    "\n"
   ]
  },
  {
   "cell_type": "code",
   "execution_count": 14,
   "id": "ac11222a",
   "metadata": {},
   "outputs": [
    {
     "data": {
      "text/html": [
       "<style>#sk-container-id-1 {color: black;}#sk-container-id-1 pre{padding: 0;}#sk-container-id-1 div.sk-toggleable {background-color: white;}#sk-container-id-1 label.sk-toggleable__label {cursor: pointer;display: block;width: 100%;margin-bottom: 0;padding: 0.3em;box-sizing: border-box;text-align: center;}#sk-container-id-1 label.sk-toggleable__label-arrow:before {content: \"▸\";float: left;margin-right: 0.25em;color: #696969;}#sk-container-id-1 label.sk-toggleable__label-arrow:hover:before {color: black;}#sk-container-id-1 div.sk-estimator:hover label.sk-toggleable__label-arrow:before {color: black;}#sk-container-id-1 div.sk-toggleable__content {max-height: 0;max-width: 0;overflow: hidden;text-align: left;background-color: #f0f8ff;}#sk-container-id-1 div.sk-toggleable__content pre {margin: 0.2em;color: black;border-radius: 0.25em;background-color: #f0f8ff;}#sk-container-id-1 input.sk-toggleable__control:checked~div.sk-toggleable__content {max-height: 200px;max-width: 100%;overflow: auto;}#sk-container-id-1 input.sk-toggleable__control:checked~label.sk-toggleable__label-arrow:before {content: \"▾\";}#sk-container-id-1 div.sk-estimator input.sk-toggleable__control:checked~label.sk-toggleable__label {background-color: #d4ebff;}#sk-container-id-1 div.sk-label input.sk-toggleable__control:checked~label.sk-toggleable__label {background-color: #d4ebff;}#sk-container-id-1 input.sk-hidden--visually {border: 0;clip: rect(1px 1px 1px 1px);clip: rect(1px, 1px, 1px, 1px);height: 1px;margin: -1px;overflow: hidden;padding: 0;position: absolute;width: 1px;}#sk-container-id-1 div.sk-estimator {font-family: monospace;background-color: #f0f8ff;border: 1px dotted black;border-radius: 0.25em;box-sizing: border-box;margin-bottom: 0.5em;}#sk-container-id-1 div.sk-estimator:hover {background-color: #d4ebff;}#sk-container-id-1 div.sk-parallel-item::after {content: \"\";width: 100%;border-bottom: 1px solid gray;flex-grow: 1;}#sk-container-id-1 div.sk-label:hover label.sk-toggleable__label {background-color: #d4ebff;}#sk-container-id-1 div.sk-serial::before {content: \"\";position: absolute;border-left: 1px solid gray;box-sizing: border-box;top: 0;bottom: 0;left: 50%;z-index: 0;}#sk-container-id-1 div.sk-serial {display: flex;flex-direction: column;align-items: center;background-color: white;padding-right: 0.2em;padding-left: 0.2em;position: relative;}#sk-container-id-1 div.sk-item {position: relative;z-index: 1;}#sk-container-id-1 div.sk-parallel {display: flex;align-items: stretch;justify-content: center;background-color: white;position: relative;}#sk-container-id-1 div.sk-item::before, #sk-container-id-1 div.sk-parallel-item::before {content: \"\";position: absolute;border-left: 1px solid gray;box-sizing: border-box;top: 0;bottom: 0;left: 50%;z-index: -1;}#sk-container-id-1 div.sk-parallel-item {display: flex;flex-direction: column;z-index: 1;position: relative;background-color: white;}#sk-container-id-1 div.sk-parallel-item:first-child::after {align-self: flex-end;width: 50%;}#sk-container-id-1 div.sk-parallel-item:last-child::after {align-self: flex-start;width: 50%;}#sk-container-id-1 div.sk-parallel-item:only-child::after {width: 0;}#sk-container-id-1 div.sk-dashed-wrapped {border: 1px dashed gray;margin: 0 0.4em 0.5em 0.4em;box-sizing: border-box;padding-bottom: 0.4em;background-color: white;}#sk-container-id-1 div.sk-label label {font-family: monospace;font-weight: bold;display: inline-block;line-height: 1.2em;}#sk-container-id-1 div.sk-label-container {text-align: center;}#sk-container-id-1 div.sk-container {/* jupyter's `normalize.less` sets `[hidden] { display: none; }` but bootstrap.min.css set `[hidden] { display: none !important; }` so we also need the `!important` here to be able to override the default hidden behavior on the sphinx rendered scikit-learn.org. See: https://github.com/scikit-learn/scikit-learn/issues/21755 */display: inline-block !important;position: relative;}#sk-container-id-1 div.sk-text-repr-fallback {display: none;}</style><div id=\"sk-container-id-1\" class=\"sk-top-container\"><div class=\"sk-text-repr-fallback\"><pre>RandomForestRegressor()</pre><b>In a Jupyter environment, please rerun this cell to show the HTML representation or trust the notebook. <br />On GitHub, the HTML representation is unable to render, please try loading this page with nbviewer.org.</b></div><div class=\"sk-container\" hidden><div class=\"sk-item\"><div class=\"sk-estimator sk-toggleable\"><input class=\"sk-toggleable__control sk-hidden--visually\" id=\"sk-estimator-id-1\" type=\"checkbox\" checked><label for=\"sk-estimator-id-1\" class=\"sk-toggleable__label sk-toggleable__label-arrow\">RandomForestRegressor</label><div class=\"sk-toggleable__content\"><pre>RandomForestRegressor()</pre></div></div></div></div></div>"
      ],
      "text/plain": [
       "RandomForestRegressor()"
      ]
     },
     "execution_count": 14,
     "metadata": {},
     "output_type": "execute_result"
    }
   ],
   "source": [
    "X = moviedf.drop('Rating', axis=1)\n",
    "y = moviedf['Rating']\n",
    "X_train, X_test, y_train, y_test = train_test_split(X, y, test_size=0.2, random_state=42)\n",
    "\n",
    "# Choose a model and train it\n",
    "model = RandomForestRegressor()\n",
    "model.fit(X_train, y_train)\n"
   ]
  },
  {
   "cell_type": "code",
   "execution_count": 15,
   "id": "2aa87fbe",
   "metadata": {},
   "outputs": [
    {
     "name": "stdout",
     "output_type": "stream",
     "text": [
      "RMSE: 0.846337140566508\n",
      "R-squared: 0.9234600155275023\n"
     ]
    }
   ],
   "source": [
    "y_pred = model.predict(X_test)\n",
    "\n",
    "# Calculate RMSE and R-squared\n",
    "rmse = np.sqrt(mean_squared_error(y_test, y_pred))\n",
    "r2 = r2_score(y_test, y_pred)\n",
    "\n",
    "print(f'RMSE: {rmse}')\n",
    "print(f'R-squared: {r2}')"
   ]
  },
  {
   "cell_type": "code",
   "execution_count": 16,
   "id": "4f12c3c6",
   "metadata": {},
   "outputs": [
    {
     "name": "stdout",
     "output_type": "stream",
     "text": [
      "Best parameters: {'max_depth': 10, 'min_samples_split': 10, 'n_estimators': 150}\n",
      "RandomForestRegressor(max_depth=10, min_samples_split=10, n_estimators=150)\n"
     ]
    }
   ],
   "source": []
  },
  {
   "cell_type": "code",
   "execution_count": null,
   "id": "87b92466",
   "metadata": {},
   "outputs": [],
   "source": []
  }
 ],
 "metadata": {
  "kernelspec": {
   "display_name": "Python 3 (ipykernel)",
   "language": "python",
   "name": "python3"
  },
  "language_info": {
   "codemirror_mode": {
    "name": "ipython",
    "version": 3
   },
   "file_extension": ".py",
   "mimetype": "text/x-python",
   "name": "python",
   "nbconvert_exporter": "python",
   "pygments_lexer": "ipython3",
   "version": "3.11.4"
  }
 },
 "nbformat": 4,
 "nbformat_minor": 5
}
