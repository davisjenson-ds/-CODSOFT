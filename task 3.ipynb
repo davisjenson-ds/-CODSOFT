{
 "cells": [
  {
   "cell_type": "code",
   "execution_count": 1,
   "id": "e8a0bd60",
   "metadata": {},
   "outputs": [],
   "source": [
    "#importing the required libraries\n",
    "import pandas as pd\n",
    "from sklearn.preprocessing import LabelEncoder\n",
    "from sklearn.model_selection import train_test_split\n",
    "from sklearn.neighbors import KNeighborsClassifier\n",
    "import matplotlib.pyplot as plt\n"
   ]
  },
  {
   "cell_type": "code",
   "execution_count": 2,
   "id": "d2e351cc",
   "metadata": {},
   "outputs": [
    {
     "name": "stdout",
     "output_type": "stream",
     "text": [
      "IRIS dataset:\n",
      "   sepal_length  sepal_width  petal_length  petal_width      species\n",
      "0           5.1          3.5           1.4          0.2  Iris-setosa\n",
      "1           4.9          3.0           1.4          0.2  Iris-setosa\n",
      "2           4.7          3.2           1.3          0.2  Iris-setosa\n",
      "3           4.6          3.1           1.5          0.2  Iris-setosa\n",
      "4           5.0          3.6           1.4          0.2  Iris-setosa\n"
     ]
    }
   ],
   "source": [
    "path_loc=\"C:/Users/DELL/Downloads/archive (3)/IRIS.csv\"\n",
    "iris=pd.read_csv(path_loc)\n",
    "print(\"IRIS dataset:\")\n",
    "print(iris.head())"
   ]
  },
  {
   "cell_type": "code",
   "execution_count": 3,
   "id": "2cee0100",
   "metadata": {},
   "outputs": [
    {
     "name": "stdout",
     "output_type": "stream",
     "text": [
      "IRIS dataset column names:\n",
      "Index(['sepal_length', 'sepal_width', 'petal_length', 'petal_width',\n",
      "       'species'],\n",
      "      dtype='object')\n"
     ]
    }
   ],
   "source": [
    "print(\"IRIS dataset column names:\")\n",
    "print(iris.columns)"
   ]
  },
  {
   "cell_type": "code",
   "execution_count": 4,
   "id": "6e1a02e0",
   "metadata": {},
   "outputs": [
    {
     "name": "stdout",
     "output_type": "stream",
     "text": [
      "['Iris-setosa' 'Iris-versicolor' 'Iris-virginica']\n"
     ]
    }
   ],
   "source": [
    "species_names=(iris['species'].unique())\n",
    "print(species_names)"
   ]
  },
  {
   "cell_type": "code",
   "execution_count": 5,
   "id": "04561dc1",
   "metadata": {},
   "outputs": [
    {
     "name": "stdout",
     "output_type": "stream",
     "text": [
      "   sepal_length  sepal_width  petal_length  petal_width      species  \\\n",
      "0           5.1          3.5           1.4          0.2  Iris-setosa   \n",
      "1           4.9          3.0           1.4          0.2  Iris-setosa   \n",
      "2           4.7          3.2           1.3          0.2  Iris-setosa   \n",
      "3           4.6          3.1           1.5          0.2  Iris-setosa   \n",
      "4           5.0          3.6           1.4          0.2  Iris-setosa   \n",
      "\n",
      "   species_en  \n",
      "0           0  \n",
      "1           0  \n",
      "2           0  \n",
      "3           0  \n",
      "4           0  \n"
     ]
    }
   ],
   "source": [
    "iris[\"species_en\"] = iris[\"species\"].replace(['Iris-setosa', 'Iris-versicolor', 'Iris-virginica'],[0,1,2])\n",
    "print(iris.head())"
   ]
  },
  {
   "cell_type": "code",
   "execution_count": 6,
   "id": "d94977db",
   "metadata": {},
   "outputs": [
    {
     "name": "stdout",
     "output_type": "stream",
     "text": [
      "    sepal_length  sepal_width  petal_length  petal_width          species  \\\n",
      "50           7.0          3.2           4.7          1.4  Iris-versicolor   \n",
      "51           6.4          3.2           4.5          1.5  Iris-versicolor   \n",
      "52           6.9          3.1           4.9          1.5  Iris-versicolor   \n",
      "53           5.5          2.3           4.0          1.3  Iris-versicolor   \n",
      "54           6.5          2.8           4.6          1.5  Iris-versicolor   \n",
      "\n",
      "    species_en  \n",
      "50           1  \n",
      "51           1  \n",
      "52           1  \n",
      "53           1  \n",
      "54           1  \n",
      "     sepal_length  sepal_width  petal_length  petal_width         species  \\\n",
      "100           6.3          3.3           6.0          2.5  Iris-virginica   \n",
      "101           5.8          2.7           5.1          1.9  Iris-virginica   \n",
      "102           7.1          3.0           5.9          2.1  Iris-virginica   \n",
      "103           6.3          2.9           5.6          1.8  Iris-virginica   \n",
      "104           6.5          3.0           5.8          2.2  Iris-virginica   \n",
      "\n",
      "     species_en  \n",
      "100           2  \n",
      "101           2  \n",
      "102           2  \n",
      "103           2  \n",
      "104           2  \n"
     ]
    }
   ],
   "source": [
    "print(iris[iris.species_en==1].head())\n",
    "print(iris[iris.species_en==2].head())"
   ]
  },
  {
   "cell_type": "code",
   "execution_count": null,
   "id": "16c9d374",
   "metadata": {},
   "outputs": [],
   "source": []
  },
  {
   "cell_type": "code",
   "execution_count": 7,
   "id": "b73904f5",
   "metadata": {},
   "outputs": [
    {
     "data": {
      "image/png": "[encoded data removed]",
      "text/plain": [
       "<Figure size 640x480 with 1 Axes>"
      ]
     },
     "metadata": {},
     "output_type": "display_data"
    }
   ],
   "source": [
    "iris0=iris[:50]\n",
    "iris1=iris[50:100]\n",
    "iris2=iris[100:]\n",
    "\n",
    "%matplotlib inline\n",
    "plt.title('sepal length vs sepal width (setrosa vs versicolor)')\n",
    "plt.xlabel('sepal length (cm)')\n",
    "plt.ylabel('sepal width (cm)')\n",
    "plt.scatter(iris0['sepal_length'],iris0['sepal_width'],color=\"green\",marker='+')\n",
    "plt.scatter(iris1['sepal_length'],iris1['sepal_width'],color=\"blue\",marker='.')\n",
    "plt.show()"
   ]
  },
  {
   "cell_type": "code",
   "execution_count": 8,
   "id": "ad4a85e0",
   "metadata": {},
   "outputs": [
    {
     "data": {
      "image/png": "[encoded data removed]",
      "text/plain": [
       "<Figure size 640x480 with 1 Axes>"
      ]
     },
     "metadata": {},
     "output_type": "display_data"
    }
   ],
   "source": [
    "plt.title('petal length vs petal width (setrosa vs versicolor)')\n",
    "plt.xlabel('petal_length (cm)')\n",
    "plt.ylabel('petal_width (cm)')\n",
    "plt.scatter(iris0['petal_length'],iris0['petal_width'],color=\"green\",marker='+')\n",
    "plt.scatter(iris1['petal_length'],iris1['petal_width'],color=\"blue\",marker='.')\n",
    "plt.show()"
   ]
  },
  {
   "cell_type": "code",
   "execution_count": 9,
   "id": "dadd8a87",
   "metadata": {},
   "outputs": [
    {
     "name": "stdout",
     "output_type": "stream",
     "text": [
      "length of X train data:\n",
      "120\n",
      "length of X test data:\n",
      "30\n"
     ]
    }
   ],
   "source": [
    "x=iris.drop(['species_en','species'],axis='columns')\n",
    "y=iris.species_en\n",
    "X_train,X_test,Y_train,Y_test=train_test_split(x,y,test_size=0.2,random_state=1)\n",
    "print(\"length of X train data:\")\n",
    "print(len(X_train))\n",
    "print(\"length of X test data:\")\n",
    "print(len(X_test))"
   ]
  },
  {
   "cell_type": "code",
   "execution_count": 10,
   "id": "788e47ff",
   "metadata": {},
   "outputs": [
    {
     "name": "stdout",
     "output_type": "stream",
     "text": [
      "\n",
      "model score: 96.66666666666667\n"
     ]
    }
   ],
   "source": [
    "model=KNeighborsClassifier(n_neighbors=10)\n",
    "model.fit(X_train,Y_train)\n",
    "score=model.score(X_test,Y_test)\n",
    "print(\"\\nmodel score:\",score*100)"
   ]
  },
  {
   "cell_type": "code",
   "execution_count": 12,
   "id": "027fa60a",
   "metadata": {},
   "outputs": [
    {
     "name": "stdout",
     "output_type": "stream",
     "text": [
      "The predicted species is: [2]-['Iris-verginica']\n"
     ]
    },
    {
     "name": "stderr",
     "output_type": "stream",
     "text": [
      "C:\\ProgramData\\anaconda3\\Lib\\site-packages\\sklearn\\base.py:464: UserWarning: X does not have valid feature names, but KNeighborsClassifier was fitted with feature names\n",
      "  warnings.warn(\n"
     ]
    }
   ],
   "source": [
    "Y_pred=model.predict([[6.8,3.0,5.5,1.3]])\n",
    "species_mapping = {\n",
    "    0: \"Iris-setosa\",\n",
    "    1: \"Iris-versicolor\",\n",
    "    2: \"Iris-verginica\"\n",
    "}\n",
    "species_name = [species_mapping[pred] for pred in Y_pred]\n",
    "\n",
    "print(f\"The predicted species is: {Y_pred}-{species_name}\")\n"
   ]
  },
  {
   "cell_type": "code",
   "execution_count": null,
   "id": "bf81bc2c",
   "metadata": {},
   "outputs": [],
   "source": []
  },
  {
   "cell_type": "code",
   "execution_count": null,
   "id": "e4c72f7b",
   "metadata": {},
   "outputs": [],
   "source": []
  }
 ],
 "metadata": {
  "kernelspec": {
   "display_name": "Python 3 (ipykernel)",
   "language": "python",
   "name": "python3"
  },
  "language_info": {
   "codemirror_mode": {
    "name": "ipython",
    "version": 3
   },
   "file_extension": ".py",
   "mimetype": "text/x-python",
   "name": "python",
   "nbconvert_exporter": "python",
   "pygments_lexer": "ipython3",
   "version": "3.11.4"
  }
 },
 "nbformat": 4,
 "nbformat_minor": 5
}
